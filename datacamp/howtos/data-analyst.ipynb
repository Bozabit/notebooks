{
  "cells": [
    {
      "cell_type": "markdown",
      "metadata": {
        "colab_type": "text",
        "id": "view-in-github"
      },
      "source": [
        "<a href=\"https://colab.research.google.com/github/Bozabit/notebooks/blob/main/datacamp/howtos/data-analyst.ipynb\" target=\"_parent\"><img src=\"https://colab.research.google.com/assets/colab-badge.svg\" alt=\"Open In Colab\"/></a>"
      ]
    },
    {
      "cell_type": "markdown",
      "metadata": {
        "id": "Gu-THLMIqQok"
      },
      "source": [
        "# Data Analysis and Science for Business\n",
        "\n",
        "En este cuaderno trato de repasar los cursos y skills dentro de Datacamp.com para obtener una idea holística, y especializada, sobre como comenzar a obtener habilidades de análisis usando herramientas sencillas, en la nube y sobre todo enfocados en los negocios. Sin emabrgo, al final me permito recomendar opciones más avanzadas para quienes quieran profundizar más en la calidad de los resultados generados.\n",
        "\n",
        "#### **REQUERIMIENTOS IMPORTANTE**:\n",
        "\n",
        "- Todos los contenidos compartidos aquí están en ingles.\n",
        "- Para poder consumir la totalidad de los contenidos, es neceario algún plan pago de DATACAMP.\n",
        "- Para poder visitar los links debes estar logueado con tu cuenta de DATACAMP"
      ]
    },
    {
      "cell_type": "markdown",
      "metadata": {},
      "source": [
        "### Empezar por un Skill Track\n",
        "\n",
        "En datacamp la mejor manera de poner orden entre tantas opciones es seleccionar un Skill o Carrer Track y en este caso, para mantener las cosas lo más sencillas posible, mi recomendación es utilizar un Skill Track y afortunadamente existe una actualmente dedicada a los negocios:\n",
        "\n",
        "SkillTrack Para Negocios => https://app.datacamp.com/learn/skill-tracks/foundational-data-skills-for-business-leaders \n",
        "\n",
        "En ese link verán un botón para suscribirse o registrarse en ese skill track. En DataCamp puedes estar registrado a un solo skill track al mismo tiempo, pero es bueno porque de esa forma desde donde sea que te conectes, en el sitio web o a través de algún dispositivo. Asi que es bueno enfocarse en uno y luego quizás pasar a otros.\n",
        "\n",
        "En este primer Skill track se habál mucho del imapcto de los datos en los negocios y que signifca tener una empresa que toma decisiones basados en los datos.\n",
        "\n",
        "Adicionalmente tiene una introducción a Python, habilidad que sin duda todo aspirante a manejar datos debería tomar. Pero creo que antes de eso es bueno prodfundizar en los conocimientos de Google Sheets... \n",
        "\n",
        "**¿Por qué Google Sheets y no Excel?\n",
        "A pesar de que yo considero que Excel es uno de los mejores productos de software que se han creado en la historia. Google tiene la imponente ventaja de estar en la nube y por defecdto contar con la habilidad de conectarse a diferentes fuentes de datos o servir como fuente de datos para otras herramientas donde el análisis se puede profundizar. Por eso creo que luego dl Skill Track es bueno contar con una profundización en google sheets y con este otro skill track.\n",
        "\n",
        "- Google Sheets Fundamentals - https://app.datacamp.com/learn/skill-tracks/spreadsheet-fundamentals"
      ]
    },
    {
      "cell_type": "markdown",
      "metadata": {},
      "source": [
        "### Profundizar con una herramienta específica.\n",
        "\n",
        "Luego de conocer todos esos detalles, creo que la mayor constribución en términos de datos para un negocios son los Dashboards y repoertes que ayuden a alinear las empresas sobre los mismo objetivos. Por eso creo que es bueno profundizar en alguna herramienta que permita crear dashboards conm mayor capacidad de calculo y mejores herramientas de visualización que lo que google sheets puede ofrecer... Entre las dos grandes PowerBI y Tableau yo prefiero la primera pues la considero on poco más accesible. Además PowerBI es una solucion embebida en el ecosistema de Microsoft, en el cual muchos negocios están instalados por lo tanto pueda ser más útil saber como usarla. Al final es realmente un tema de preferencias. Aqui los links para los cursos en DataCAMP:\n",
        "\n",
        "- Power Bi Fundamentals => https://app.datacamp.com/learn/skill-tracks/power-bi-fundamentals\n",
        "- Tableau Fundamentals => https://app.datacamp.com/learn/skill-tracks/tableau-fundamentals\n",
        "\n",
        "Bonus por si les gusta:\n",
        "- Financial Reporting in Power BI -> https://app.datacamp.com/learn/skill-tracks/financial-reporting\n"
      ]
    },
    {
      "cell_type": "markdown",
      "metadata": {},
      "source": [
        "### Próximos pasos \n",
        "\n",
        "En este punto ya deberías poder realizar análisis de cualquier fuente de datos. A partir de aqui pues quedan dos grandes opciones.\n",
        "\n",
        "- **Data Engineering**: El ingeniero de datos, que ya posiblemente sepas, se encarga de todas las operaciones para preparar y mover los datos de un lugar para otro, para que analistas y científicos puedan hacer su trabajo de la manera más optimas y el gasto asociado controlado.\n",
        "\n",
        "- **Data Science**: El Cientifico de Datos es quien toma los datos para alimentarlos a modelos de predicción, machine learning o cualquier tipo de IA para resolver problemas complejos dentro de las empresas, a través del uso intensivo de datos. En el caso del data scientist es siempre requerido que tenga conocimientos en algún lenguaje en específico, mi recomendación sería python.\n",
        "\n",
        "Por supuesto en DATACAMP existen carreras para cada caso:\n",
        "\n",
        "- Data Engineer => https://app.datacamp.com/learn/career-tracks?topics=data-engineer\n",
        "- Data Science with Python => https://app.datacamp.com/learn/career-tracks/data-scientist-with-python"
      ]
    },
    {
      "cell_type": "markdown",
      "metadata": {},
      "source": []
    }
  ],
  "metadata": {
    "colab": {
      "authorship_tag": "ABX9TyOjfxXZ3ty59QYDbYZOHonm",
      "include_colab_link": true,
      "provenance": []
    },
    "kernelspec": {
      "display_name": "Python 3",
      "name": "python3"
    },
    "language_info": {
      "name": "python"
    }
  },
  "nbformat": 4,
  "nbformat_minor": 0
}
