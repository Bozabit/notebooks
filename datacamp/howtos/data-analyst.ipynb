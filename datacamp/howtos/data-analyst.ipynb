{
  "nbformat": 4,
  "nbformat_minor": 0,
  "metadata": {
    "colab": {
      "provenance": [],
      "authorship_tag": "ABX9TyOjfxXZ3ty59QYDbYZOHonm",
      "include_colab_link": true
    },
    "kernelspec": {
      "name": "python3",
      "display_name": "Python 3"
    },
    "language_info": {
      "name": "python"
    }
  },
  "cells": [
    {
      "cell_type": "markdown",
      "metadata": {
        "id": "view-in-github",
        "colab_type": "text"
      },
      "source": [
        "<a href=\"https://colab.research.google.com/github/Bozabit/notebooks/blob/main/datacamp/howtos/data-analyst.ipynb\" target=\"_parent\"><img src=\"https://colab.research.google.com/assets/colab-badge.svg\" alt=\"Open In Colab\"/></a>"
      ]
    },
    {
      "cell_type": "markdown",
      "source": [
        "Prueba de cambio"
      ],
      "metadata": {
        "id": "Gu-THLMIqQok"
      }
    },
    {
      "cell_type": "code",
      "source": [],
      "metadata": {
        "id": "5qO-cx-yqV4x"
      },
      "execution_count": null,
      "outputs": []
    }
  ]
}